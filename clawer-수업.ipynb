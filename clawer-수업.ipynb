{
 "cells": [
  {
   "cell_type": "code",
   "execution_count": 1,
   "metadata": {},
   "outputs": [
    {
     "data": {
      "text/plain": [
       "241719"
      ]
     },
     "execution_count": 1,
     "metadata": {},
     "output_type": "execute_result"
    }
   ],
   "source": [
    "from bs4 import BeautifulSoup\n",
    "import requests\n",
    "\n",
    "response = requests.get('https://comic.naver.com/webtoon/weekday.nhn')\n",
    "open('weekday.html', 'wt').write(response.text)"
   ]
  },
  {
   "cell_type": "code",
   "execution_count": 2,
   "metadata": {},
   "outputs": [],
   "source": [
    "html = open('weekday.html', 'rt').read()\n",
    "soup = BeautifulSoup(html, 'lxml')"
   ]
  },
  {
   "cell_type": "code",
   "execution_count": 3,
   "metadata": {},
   "outputs": [],
   "source": [
    "# div class=\"list_area daily all\"요소가 가진\n",
    "# 모든 .col목록들을 col_list에 할당\n",
    "\n",
    "# .list_area.daily_all은 웹툰 전체목로 부분에 해당\n",
    "# .col요소는 각 요일부분에 해당\n",
    "col_list = soup.select_one('div.list_area.daily_all').select('.col')"
   ]
  },
  {
   "cell_type": "code",
   "execution_count": 4,
   "metadata": {},
   "outputs": [
    {
     "data": {
      "text/plain": [
       "7"
      ]
     },
     "execution_count": 4,
     "metadata": {},
     "output_type": "execute_result"
    }
   ],
   "source": [
    "len(col_list)"
   ]
  },
  {
   "cell_type": "code",
   "execution_count": 5,
   "metadata": {},
   "outputs": [],
   "source": [
    "# .col내부에 있는 li요소 한개가 웹툰 한개에 해당\n",
    "# col_list(요일 목록)를 순회하며 각 col(요일)이 가진 모든 웹툰(li)요소들을\n",
    "#  li_list에 추가하기\n",
    "li_list = []\n",
    "for col in col_list:\n",
    "    col_li_list = col.select('.col_inner ul > li')\n",
    "    li_list.extend(col_li_list)\n",
    "\n",
    "# 리스트 컴프리헨션 사용\n",
    "\n",
    "# li_list = [li \n",
    "#            for col in col_list \n",
    "#            for li in col.select('.col_inner ul > li')]_\n"
   ]
  },
  {
   "cell_type": "code",
   "execution_count": 6,
   "metadata": {},
   "outputs": [],
   "source": [
    "class WebtoonData:\n",
    "    def __init__(self, webtoon_id, title, url_thumbnail):\n",
    "        self.webtoon_id = webtoon_id\n",
    "        self.title = title\n",
    "        self.url_thumbnail = url_thumbnail\n",
    "        \n",
    "    def __repr__(self):\n",
    "        return self.title"
   ]
  },
  {
   "cell_type": "code",
   "execution_count": 7,
   "metadata": {},
   "outputs": [],
   "source": [
    "import re\n",
    "\n",
    "webtoon_data_dict = {}\n",
    "for li in li_list:\n",
    "    href = li.select_one('a.title')['href']\n",
    "    m = re.search(r'titleId=(\\d+)', href)\n",
    "    webtoon_id = m.group(1)\n",
    "    title = li.select_one('a.title').get_text(strip=True)\n",
    "    url_thumbnail = li.select_one('.thumb > a > img')['src']\n",
    "    \n",
    "    if not title in webtoon_data_dict:\n",
    "        new_webtoon_data = WebtoonData(webtoon_id, title, url_thumbnail)\n",
    "        webtoon_data_dict[title] = new_webtoon_data"
   ]
  },
  {
   "cell_type": "code",
   "execution_count": 8,
   "metadata": {},
   "outputs": [
    {
     "name": "stdout",
     "output_type": "stream",
     "text": [
      "신의 탑\n",
      "뷰티풀 군바리\n",
      "윈드브레이커\n",
      "소녀의 세계\n",
      "대학일기\n",
      "평범한 8반\n",
      "니편내편\n",
      "데드라이프\n",
      "신을 죽이는 방법\n",
      "가우스전자 시즌3~4\n",
      "내 여자친구는 상남자\n",
      "링크보이\n",
      "일진에게 회초리\n",
      "이것도 친구라고\n",
      "마왕이 되는 중2야\n",
      "오늘의 순정망화\n",
      "이상하고 아름다운\n",
      "마이너스의 손\n",
      "부로콜리왕자\n",
      "유일무이 로맨스\n",
      "혈투\n",
      "히어로메이커\n",
      "피플\n",
      "닥터 하운드\n",
      "꿈의 기업\n",
      "반투명인간\n",
      "와장창창! 자취맨\n",
      "오직 나의 주인님\n",
      "홍차리브레\n",
      "열대어\n",
      "찬란하지 않아도 괜찮아\n",
      "여신강림\n",
      "노블레스\n",
      "하이브3\n",
      "랜덤채팅의 그녀!\n",
      "마음의소리\n",
      "원주민 공포만화\n",
      "덴마\n",
      "신암행어사\n",
      "신도림\n",
      "빙탕후루\n",
      "자판귀\n",
      "신의 언어\n",
      "놓지마 정신줄 시즌2\n",
      "삼국지톡\n",
      "창궐\n",
      "노곤하개\n",
      "바른연애 길잡이\n",
      "제로게임\n",
      "윌유메리미\n",
      "에이머\n",
      "악마와 계약연애\n",
      "은주의 방 2~3부\n",
      "문래빗\n",
      "열정호구\n",
      "불괴\n",
      "참새는 새!신부\n",
      "위장불륜 (僞裝不倫)\n",
      "패밀리 사이즈\n",
      "간질간질\n",
      "반듯한 이용으로 당신을 응원합니다!\n",
      "유미의 세포들\n",
      "복학왕\n",
      "고수\n",
      "연놈\n",
      "세상은 돈과 권력\n",
      "헬퍼 2 : 킬베로스\n",
      "이츠마인\n",
      "신석기녀\n",
      "조선왕조실톡\n",
      "레사 시즌2~3\n",
      "격기3반\n",
      "언덕 위의 제임스\n",
      "요리GO\n",
      "로베스의 완전감각\n",
      "미시령\n",
      "12차원 소년들\n",
      "성공한 덕후\n",
      "2018 루키 단편선-지옥캠프\n",
      "펀브로커\n",
      "고교생을 환불해 주세요\n",
      "그 판타지 세계에서 사는 법\n",
      "자취로운 생활\n",
      "안녕, 대학생\n",
      "옆반의 인어\n",
      "씬커\n",
      "푸른사막 아아루\n",
      "칼부림\n",
      "일렉시드\n",
      "만 화 고\n",
      "여심강타(feat.금연)\n",
      "연애혁명\n",
      "신과함께 (재)\n",
      "기기괴괴\n",
      "타인은 지옥이다\n",
      "좀비딸\n",
      "하드캐리\n",
      "최강전설 강해효\n",
      "캉타우\n",
      "쿠베라\n",
      "간 떨어지는 동거\n",
      "전자오락수호대\n",
      "가담항설\n",
      "이름을 불러주세요\n",
      "롤랑롤랑\n",
      "파도를 찾아라!\n",
      "35cm\n",
      "트롤트랩\n",
      "아르마\n",
      "소유\n",
      "백귀야행지\n",
      "5kg을 위하여\n",
      "Doll 체인지\n",
      "하나의 하루\n",
      "좋아하는 부분\n",
      "킬더킹\n",
      "특수 영능력 수사반\n",
      "호러와 로맨스\n",
      "그랜드 배틀 토너먼트\n",
      "비둘기가 물고 온 남자\n",
      "안전의 참견 시즌2\n",
      "외모지상주의\n",
      "갓 오브 하이스쿨\n",
      "스위트홈\n",
      "테러맨\n",
      "더 게이머\n",
      "밥 먹고 갈래요?\n",
      "결계녀\n",
      "화장 지워주는 남자\n",
      "개를 낳았다\n",
      "걸어서 30분\n",
      "냐한남자\n",
      "암흑도시\n",
      "하르모니아\n",
      "엔드리스\n",
      "몽홀\n",
      "골든 체인지\n",
      "강변살다\n",
      "왕으로 살다\n",
      "나의 짝사랑 고백법\n",
      "식스틴\n",
      "꼬리\n",
      "여기는 시에라리온\n",
      "프리드로우\n",
      "호랑이형님\n",
      "부활남\n",
      "비질란테\n",
      "공복의 저녁식사\n",
      "대가리\n",
      "나노리스트\n",
      "갓핑크\n",
      "늑대와 빨간모자\n",
      "어글리후드\n",
      "병의 맛\n",
      "아메리카노 엑소더스\n",
      "언데드\n",
      "귀각시\n",
      "고인의 명복\n",
      "우리 오빠는 아이돌\n",
      "2인용 인간\n",
      "방백남녀\n",
      "트럼프\n",
      "MZ-레이징 인페르노\n",
      "나이트런\n",
      "홍시는 날 좋아해!\n",
      "동토의 여명\n",
      "환상적인 소년\n",
      "조의 영역\n",
      "열렙전사\n",
      "약한영웅\n",
      "연애의 정령\n",
      "다이스(DICE)\n",
      "오늘도 사랑스럽개\n",
      "마법스크롤 상인 지오\n",
      "언원티드\n",
      "구구까까\n",
      "연의 편지\n",
      "도망자\n",
      "허니허니 웨딩\n",
      "호랭총각\n",
      "내일\n",
      "귀도호가록\n",
      "황금의 핸드메이커\n",
      "꽃 피는 날\n",
      "파우스트 인 러브\n",
      "점핑오버\n",
      "완벽하지 않은 키스\n",
      "수학 잘하는 법\n",
      "웅이는 배고파\n",
      "호곡\n",
      "가족사랑툰\n"
     ]
    }
   ],
   "source": [
    "for key, webtoon_data in webtoon_data_dict.items():\n",
    "    print(webtoon_data)"
   ]
  },
  {
   "cell_type": "code",
   "execution_count": 24,
   "metadata": {},
   "outputs": [],
   "source": [
    "from bs4 import BeautifulSoup\n",
    "import requests\n",
    "\n",
    "others_hell = requests.get('https://comic.naver.com/webtoon/list.nhn?titleId=708378&weekday=sun')\n",
    "open('sunday.html', 'wt').write(others_hell.text)\n",
    "\n",
    "html = open('sunday.html', 'rt').read()\n",
    "soup = BeautifulSoup(html, 'lxml')"
   ]
  },
  {
   "cell_type": "code",
   "execution_count": 25,
   "metadata": {},
   "outputs": [
    {
     "name": "stdout",
     "output_type": "stream",
     "text": [
      "[<img alt=\"60화\" height=\"41\" onerror=\"this.src='https://static-comic.pstatic.net/staticImages/COMICWEB/NAVER/img/common/non71_41.gif'\" src=\"https://shared-comic.pstatic.net/thumb/webtoon/708378/60/thumbnail_202x120_e1ba6adc-3a2e-47e1-8a56-7fcacb4700e4.jpg\" title=\"60화\" width=\"71\"/>, <img alt=\"59화\" height=\"41\" onerror=\"this.src='https://static-comic.pstatic.net/staticImages/COMICWEB/NAVER/img/common/non71_41.gif'\" src=\"https://shared-comic.pstatic.net/thumb/webtoon/708378/59/thumbnail_202x120_a608813d-40bd-4441-b59a-abc44282fa81.jpg\" title=\"59화\" width=\"71\"/>, <img alt=\"58화\" height=\"41\" onerror=\"this.src='https://static-comic.pstatic.net/staticImages/COMICWEB/NAVER/img/common/non71_41.gif'\" src=\"https://shared-comic.pstatic.net/thumb/webtoon/708378/58/thumbnail_202x120_01e81024-3587-4dae-a1ee-9ca3d59689f1.jpg\" title=\"58화\" width=\"71\"/>, <img alt=\"57화\" height=\"41\" onerror=\"this.src='https://static-comic.pstatic.net/staticImages/COMICWEB/NAVER/img/common/non71_41.gif'\" src=\"https://shared-comic.pstatic.net/thumb/webtoon/708378/57/thumbnail_202x120_14fbb60a-82fc-43d7-9844-44b75d88e706.jpg\" title=\"57화\" width=\"71\"/>, <img alt=\"56화\" height=\"41\" onerror=\"this.src='https://static-comic.pstatic.net/staticImages/COMICWEB/NAVER/img/common/non71_41.gif'\" src=\"https://shared-comic.pstatic.net/thumb/webtoon/708378/56/thumbnail_202x120_50ae338b-7f62-4f6b-b881-7a8cd807d09e.jpg\" title=\"56화\" width=\"71\"/>, <img alt=\"55화\" height=\"41\" onerror=\"this.src='https://static-comic.pstatic.net/staticImages/COMICWEB/NAVER/img/common/non71_41.gif'\" src=\"https://shared-comic.pstatic.net/thumb/webtoon/708378/55/thumbnail_202x120_782e89a2-df0c-45ce-ae21-5bb771d4dfbb.jpg\" title=\"55화\" width=\"71\"/>, <img alt=\"54화\" height=\"41\" onerror=\"this.src='https://static-comic.pstatic.net/staticImages/COMICWEB/NAVER/img/common/non71_41.gif'\" src=\"https://shared-comic.pstatic.net/thumb/webtoon/708378/54/thumbnail_202x120_5cecb49a-a7bc-4ccd-90c5-09231858e19c.jpg\" title=\"54화\" width=\"71\"/>, <img alt=\"53화\" height=\"41\" onerror=\"this.src='https://static-comic.pstatic.net/staticImages/COMICWEB/NAVER/img/common/non71_41.gif'\" src=\"https://shared-comic.pstatic.net/thumb/webtoon/708378/53/thumbnail_202x120_af5846ea-bc2e-489a-9d4c-9e236128bfeb.jpg\" title=\"53화\" width=\"71\"/>, <img alt=\"52화\" height=\"41\" onerror=\"this.src='https://static-comic.pstatic.net/staticImages/COMICWEB/NAVER/img/common/non71_41.gif'\" src=\"https://shared-comic.pstatic.net/thumb/webtoon/708378/52/thumbnail_202x120_da988a1b-3cb4-4b39-aa83-bf41eb907ec3.jpg\" title=\"52화\" width=\"71\"/>, <img alt=\"51화\" height=\"41\" onerror=\"this.src='https://static-comic.pstatic.net/staticImages/COMICWEB/NAVER/img/common/non71_41.gif'\" src=\"https://shared-comic.pstatic.net/thumb/webtoon/708378/51/thumbnail_202x120_8bfde58c-847a-4a8f-92e6-3d7eb36f17f6.jpg\" title=\"51화\" width=\"71\"/>]\n"
     ]
    }
   ],
   "source": [
    "episode_table = soup.select('#wrap #container .viewList > tr img')\n",
    "print(episode_table)"
   ]
  },
  {
   "cell_type": "code",
   "execution_count": 11,
   "metadata": {},
   "outputs": [
    {
     "name": "stdout",
     "output_type": "stream",
     "text": [
      "https://shared-comic.pstatic.net/thumb/webtoon/708378/60/thumbnail_202x120_e1ba6adc-3a2e-47e1-8a56-7fcacb4700e4.jpg\n",
      "https://shared-comic.pstatic.net/thumb/webtoon/708378/59/thumbnail_202x120_a608813d-40bd-4441-b59a-abc44282fa81.jpg\n",
      "https://shared-comic.pstatic.net/thumb/webtoon/708378/58/thumbnail_202x120_01e81024-3587-4dae-a1ee-9ca3d59689f1.jpg\n",
      "https://shared-comic.pstatic.net/thumb/webtoon/708378/57/thumbnail_202x120_14fbb60a-82fc-43d7-9844-44b75d88e706.jpg\n",
      "https://shared-comic.pstatic.net/thumb/webtoon/708378/56/thumbnail_202x120_50ae338b-7f62-4f6b-b881-7a8cd807d09e.jpg\n",
      "https://shared-comic.pstatic.net/thumb/webtoon/708378/55/thumbnail_202x120_782e89a2-df0c-45ce-ae21-5bb771d4dfbb.jpg\n",
      "https://shared-comic.pstatic.net/thumb/webtoon/708378/54/thumbnail_202x120_5cecb49a-a7bc-4ccd-90c5-09231858e19c.jpg\n",
      "https://shared-comic.pstatic.net/thumb/webtoon/708378/53/thumbnail_202x120_af5846ea-bc2e-489a-9d4c-9e236128bfeb.jpg\n",
      "https://shared-comic.pstatic.net/thumb/webtoon/708378/52/thumbnail_202x120_da988a1b-3cb4-4b39-aa83-bf41eb907ec3.jpg\n",
      "https://shared-comic.pstatic.net/thumb/webtoon/708378/51/thumbnail_202x120_8bfde58c-847a-4a8f-92e6-3d7eb36f17f6.jpg\n"
     ]
    }
   ],
   "source": [
    "# url_thumbnail\n",
    "for url_thumbnail in episode_table:\n",
    "    print(url_thumbnail.get('src'))"
   ]
  },
  {
   "cell_type": "code",
   "execution_count": 12,
   "metadata": {},
   "outputs": [
    {
     "name": "stdout",
     "output_type": "stream",
     "text": [
      "60화\n",
      "59화\n",
      "58화\n",
      "57화\n",
      "56화\n",
      "55화\n",
      "54화\n",
      "53화\n",
      "52화\n",
      "51화\n"
     ]
    }
   ],
   "source": [
    "# title\n",
    "for title in episode_table:\n",
    "    print(title.get('alt'))"
   ]
  },
  {
   "cell_type": "code",
   "execution_count": 26,
   "metadata": {},
   "outputs": [],
   "source": [
    "table = soup.select_one('table.viewList')\n",
    "tr_list = table.select('tr')[1:]\n",
    "import re\n",
    "for tr in tr_list:\n",
    "    try:\n",
    "        td_list = tr.select('td')\n",
    "\n",
    "        href = td_list[0].select_one('a')['href']\n",
    "        no = re.search(r'no=(\\d+)', href).group(1)\n",
    "\n",
    "        url_thumbnail = tr[0].select_one('img')['src']\n",
    "        title = tr[1].select_one('a').get_text(strip=True)\n",
    "        rating = tr[2].select_one('strong').get_text()\n",
    "        created_date = td_list[3].get_text(strip=True)\n",
    "\n",
    "        print(title, rating, created_date, url_thumbnail)\n",
    "    except:\n",
    "        pass"
   ]
  },
  {
   "cell_type": "code",
   "execution_count": 14,
   "metadata": {},
   "outputs": [
    {
     "data": {
      "text/plain": [
       "True"
      ]
     },
     "execution_count": 14,
     "metadata": {},
     "output_type": "execute_result"
    }
   ],
   "source": [
    "3 == 3"
   ]
  },
  {
   "cell_type": "code",
   "execution_count": 15,
   "metadata": {},
   "outputs": [],
   "source": [
    "class A:\n",
    "    def __init__(self, value):\n",
    "        self.value = value\n",
    "        \n",
    "    def __eq__(self, other):\n",
    "        return self.value == other.value"
   ]
  },
  {
   "cell_type": "code",
   "execution_count": 16,
   "metadata": {},
   "outputs": [],
   "source": [
    "a1 = A(3)\n",
    "a2 = A(3)"
   ]
  },
  {
   "cell_type": "code",
   "execution_count": 17,
   "metadata": {},
   "outputs": [
    {
     "data": {
      "text/plain": [
       "True"
      ]
     },
     "execution_count": 17,
     "metadata": {},
     "output_type": "execute_result"
    }
   ],
   "source": [
    "a1 == a2"
   ]
  },
  {
   "cell_type": "code",
   "execution_count": 18,
   "metadata": {},
   "outputs": [
    {
     "name": "stdout",
     "output_type": "stream",
     "text": [
      "True\n"
     ]
    }
   ],
   "source": [
    "import os.path\n",
    "\n",
    "if os.path.exists('crawler/saved_data/weekday.html'):\n",
    "    print(os.path.exists('crawler/saved_data/weekday.html'))\n",
    "else:\n",
    "    print('aaa')"
   ]
  },
  {
   "cell_type": "code",
   "execution_count": null,
   "metadata": {},
   "outputs": [],
   "source": []
  }
 ],
 "metadata": {
  "kernelspec": {
   "display_name": "Python 3",
   "language": "python",
   "name": "python3"
  },
  "language_info": {
   "codemirror_mode": {
    "name": "ipython",
    "version": 3
   },
   "file_extension": ".py",
   "mimetype": "text/x-python",
   "name": "python",
   "nbconvert_exporter": "python",
   "pygments_lexer": "ipython3",
   "version": "3.6.6"
  }
 },
 "nbformat": 4,
 "nbformat_minor": 2
}
