{
 "cells": [
  {
   "cell_type": "markdown",
   "metadata": {},
   "source": [
    "## 가게이미지, 가게 식당명 크롤링"
   ]
  },
  {
   "cell_type": "code",
   "execution_count": null,
   "metadata": {},
   "outputs": [],
   "source": [
    "import time\n",
    "import re\n",
    "\n",
    "#  load library (url 이미지 다운로드)\n",
    "import urllib.request\n",
    "import os\n",
    "\n",
    "from selenium import webdriver\n",
    "from selenium.webdriver.common.keys import Keys\n",
    "from bs4 import BeautifulSoup\n",
    "\n",
    "driver = webdriver.Chrome('/usr/sbin/chromedriver')\n",
    "\n",
    "driver.implicitly_wait(3)\n",
    "driver.get('https://www.foodfly.co.kr/restaurants')\n",
    "\n",
    "# 한식[선택]\n",
    "driver.find_element_by_xpath(\"/html/body/header/div[3]/form/div/div[2]\").click()\n",
    "# html = driver.page_source # 현재 페이지 주소를 반환\n",
    "\n",
    "# 웹 스크롤 다운 구현\n",
    "elem = driver.find_element_by_tag_name(\"body\")\n",
    "no_of_pagedowns = 1\n",
    "\n",
    "while no_of_pagedowns < 30:\n",
    "    elem.send_keys(Keys.PAGE_DOWN)\n",
    "    time.sleep(0.2)\n",
    "    no_of_pagedowns += 1\n",
    "    \n",
    "html = driver.page_source\n",
    "\n",
    "# 한식 데이터(이미지) 수집\n",
    "soup = BeautifulSoup(html, 'lxml')\n",
    "img = soup.select('#restaurants > .restaurant-list .restaurant_box .restaurant_box_bg')\n",
    "count = 1\n",
    "for i in img:\n",
    "    img_url = i.get_text(\"url\", strip=True)\n",
    "    img_url_parse = img_url[4:-1]\n",
    "    urllib.request.urlretrieve(img_url_parse, f'{count}.korea_food_img.jpg')\n",
    "    count += 1\n",
    "\n",
    "# 한식 데이터(식당명) 수집\n",
    "korea_store_list = []\n",
    "korea_store_name = soup.select('#restaurants > .restaurant-list .restaurant_box .restaurant_info .restaurant_name')\n",
    "for name in korea_store_name:\n",
    "    store_name = f'{name.string}'\n",
    "    korea_store_list.append(store_name)\n",
    "\n",
    "for i, name in enumerate(korea_store_list):\n",
    "    print(i, name)\n",
    "\n"
   ]
  },
  {
   "cell_type": "markdown",
   "metadata": {},
   "source": [
    "## 페이지 detail 들어가기 위해 a태그 링크 번호 따오기"
   ]
  },
  {
   "cell_type": "code",
   "execution_count": 1,
   "metadata": {},
   "outputs": [],
   "source": [
    "import time\n",
    "import re\n",
    "\n",
    "#  load library (url 이미지 다운로드)\n",
    "import urllib.request\n",
    "import os\n",
    "\n",
    "from selenium import webdriver\n",
    "from selenium.webdriver.common.keys import Keys\n",
    "from bs4 import BeautifulSoup\n",
    "\n",
    "driver = webdriver.Chrome('/usr/sbin/chromedriver')\n",
    "\n",
    "driver.implicitly_wait(3)\n",
    "driver.get('https://www.foodfly.co.kr/restaurants')"
   ]
  },
  {
   "cell_type": "code",
   "execution_count": 2,
   "metadata": {},
   "outputs": [],
   "source": [
    "# 한식[선택]\n",
    "driver.find_element_by_xpath(\"/html/body/header/div[3]/form/div/div[2]\").click()\n",
    "\n",
    "# 웹 스크롤 다운 구현\n",
    "elem = driver.find_element_by_tag_name(\"body\")\n",
    "no_of_pagedowns = 1\n",
    "while no_of_pagedowns < 40:\n",
    "    elem.send_keys(Keys.PAGE_DOWN)\n",
    "    time.sleep(0.4)\n",
    "    no_of_pagedowns += 1"
   ]
  },
  {
   "cell_type": "code",
   "execution_count": 3,
   "metadata": {
    "scrolled": true
   },
   "outputs": [],
   "source": [
    "html = driver.page_source # 현재 페이지 주소를 반환\n",
    "soup = BeautifulSoup(html, 'lxml')\n",
    "\n",
    "img = soup.select('#restaurants > .restaurant-list .restaurant_box .restaurant_box_bg')\n",
    "img_id_list = []\n",
    "for i in img:\n",
    "    img_url = i.get_text(\"url\", strip=True)\n",
    "    img_id = img_url[43:48]\n",
    "    img_id_list.append(img_id)"
   ]
  },
  {
   "cell_type": "markdown",
   "metadata": {},
   "source": [
    "## a 링크 따오기(detail 페이지 파싱)"
   ]
  },
  {
   "cell_type": "code",
   "execution_count": 175,
   "metadata": {},
   "outputs": [
    {
     "name": "stdout",
     "output_type": "stream",
     "text": [
      "서울 강남구 역삼동 831-5 지상1층, 2층\n"
     ]
    },
    {
     "ename": "AttributeError",
     "evalue": "'str' object has no attribute 'append'",
     "output_type": "error",
     "traceback": [
      "\u001b[0;31m---------------------------------------------------------------------------\u001b[0m",
      "\u001b[0;31mAttributeError\u001b[0m                            Traceback (most recent call last)",
      "\u001b[0;32m<ipython-input-175-12f46ac9ef76>\u001b[0m in \u001b[0;36m<module>\u001b[0;34m\u001b[0m\n\u001b[1;32m     50\u001b[0m     \u001b[0mstore_address_detail\u001b[0m \u001b[0;34m=\u001b[0m \u001b[0mstore_address_str\u001b[0m\u001b[0;34m[\u001b[0m\u001b[0;36m6\u001b[0m\u001b[0;34m:\u001b[0m\u001b[0;34m]\u001b[0m\u001b[0;34m\u001b[0m\u001b[0m\n\u001b[1;32m     51\u001b[0m     \u001b[0mprint\u001b[0m\u001b[0;34m(\u001b[0m\u001b[0mstore_address_detail\u001b[0m\u001b[0;34m)\u001b[0m\u001b[0;34m\u001b[0m\u001b[0m\n\u001b[0;32m---> 52\u001b[0;31m     \u001b[0mstore_address_detail\u001b[0m\u001b[0;34m.\u001b[0m\u001b[0mappend\u001b[0m\u001b[0;34m(\u001b[0m\u001b[0mstore_address\u001b[0m\u001b[0;34m)\u001b[0m\u001b[0;34m\u001b[0m\u001b[0m\n\u001b[0m\u001b[1;32m     53\u001b[0m \u001b[0;34m\u001b[0m\u001b[0m\n\u001b[1;32m     54\u001b[0m     \u001b[0;31m# 가게소개 뽑기\u001b[0m\u001b[0;34m\u001b[0m\u001b[0;34m\u001b[0m\u001b[0m\n",
      "\u001b[0;31mAttributeError\u001b[0m: 'str' object has no attribute 'append'"
     ]
    }
   ],
   "source": [
    "import time\n",
    "import re\n",
    "\n",
    "#  load library (url 이미지 다운로드)\n",
    "import urllib.request\n",
    "import os\n",
    "\n",
    "from selenium import webdriver\n",
    "from selenium.webdriver.common.keys import Keys\n",
    "from bs4 import BeautifulSoup\n",
    "\n",
    "driver = webdriver.Chrome('/usr/sbin/chromedriver')\n",
    "\n",
    "driver.implicitly_wait(3)\n",
    "driver.get('https://www.foodfly.co.kr/restaurants')\n",
    "\n",
    "# 한식[선택]\n",
    "driver.find_element_by_xpath(\"/html/body/header/div[3]/form/div/div[2]\").click()\n",
    "\n",
    "# 웹 스크롤 다운 구현\n",
    "elem = driver.find_element_by_tag_name(\"body\")\n",
    "no_of_pagedowns = 1\n",
    "while no_of_pagedowns < 40:\n",
    "    elem.send_keys(Keys.PAGE_DOWN)\n",
    "    time.sleep(0.2)\n",
    "    no_of_pagedowns += 1\n",
    "    \n",
    "html = driver.page_source # 현재 페이지 주소를 반환    \n",
    "ele_id = driver.find_element_by_id(\"restaurants\")\n",
    "html_content = ele_id.find_element_by_css_selector('div.restaurant-list').get_attribute('innerHTML')\n",
    "\n",
    "soup = BeautifulSoup(html_content, 'lxml')\n",
    "\n",
    "store_href = []\n",
    "for url in soup:\n",
    "    url_page = url.select('a')\n",
    "    for url_href in url_page:\n",
    "        a_href = url_href['href']\n",
    "        store_href.append(a_href)\n",
    "\n",
    "# 각 가게 링크에 접속 후 파싱\n",
    "store_address=[]\n",
    "for num, _ in enumerate(store_href, start=1):\n",
    "    driver.find_element_by_xpath(f'//*[@id=\"restaurants\"]/div/a[{num}]').send_keys(Keys.ENTER)\n",
    "    html2 = driver.page_source\n",
    "    soup = BeautifulSoup(html2, 'lxml')\n",
    "    # 주소뽑기\n",
    "    store_address = soup.select('#restaurant-show > .clearfix > .left-section .pull-left p')[1]\n",
    "    store_address_str = store_address.get_text(\"서울\", strip=True)\n",
    "    store_address_detail = store_address_str[6:]\n",
    "    print(store_address_detail)\n",
    "    store_address_detail.append(store_address)\n",
    "    \n",
    "    # 가게소개 뽑기\n",
    "    store_info = soup.select('#restaurant-show > .bordered p')\n",
    "    \n",
    "    \n",
    "    \n",
    "    \n",
    "    \n",
    "    \n",
    "    \n",
    "    driver.back()\n",
    "    driver.implicitly_wait(5)\n",
    "    \n"
   ]
  },
  {
   "cell_type": "code",
   "execution_count": 173,
   "metadata": {},
   "outputs": [
    {
     "name": "stdout",
     "output_type": "stream",
     "text": [
      "<class 'bs4.element.Tag'>\n",
      "서울 강남구 역삼동 817-26 1,2층\n"
     ]
    }
   ],
   "source": [
    "driver = webdriver.Chrome('/usr/sbin/chromedriver')\n",
    "driver.implicitly_wait(3)\n",
    "\n",
    "driver.get('https://www.foodfly.co.kr/restaurants/show/21073')\n",
    "html2 = driver.page_source\n",
    "soup = BeautifulSoup(html2, 'lxml')\n",
    "\n",
    "store_address = soup.select('#restaurant-show > .clearfix > .left-section .pull-left p')[1]\n",
    "store_address_str = store_address.get_text(\"서울\", strip=True)\n",
    "store_address_detail = store_address_str[6:]\n",
    "print(store_address_detail)"
   ]
  },
  {
   "cell_type": "code",
   "execution_count": 179,
   "metadata": {},
   "outputs": [
    {
     "ename": "UnexpectedAlertPresentException",
     "evalue": "Alert Text: None\nMessage: unexpected alert open: {Alert text : 선택하신 '백억하누 강남본점'은/는 21:50전까지 주문이 가능합니다. 종료시간 전까지 주문을 완료하셔야 배송이 가능합니다.}\n  (Session info: chrome=70.0.3538.77)\n  (Driver info: chromedriver=2.43.600233 (523efee95e3d68b8719b3a1c83051aa63aa6b10d),platform=Linux 4.15.0-39-generic x86_64)\n",
     "output_type": "error",
     "traceback": [
      "\u001b[0;31m---------------------------------------------------------------------------\u001b[0m",
      "\u001b[0;31mUnexpectedAlertPresentException\u001b[0m           Traceback (most recent call last)",
      "\u001b[0;32m<ipython-input-179-cc70aa059968>\u001b[0m in \u001b[0;36m<module>\u001b[0;34m\u001b[0m\n\u001b[1;32m      3\u001b[0m \u001b[0;34m\u001b[0m\u001b[0m\n\u001b[1;32m      4\u001b[0m \u001b[0mdriver\u001b[0m\u001b[0;34m.\u001b[0m\u001b[0mget\u001b[0m\u001b[0;34m(\u001b[0m\u001b[0;34m'https://www.foodfly.co.kr/restaurants/show/21073'\u001b[0m\u001b[0;34m)\u001b[0m\u001b[0;34m\u001b[0m\u001b[0m\n\u001b[0;32m----> 5\u001b[0;31m \u001b[0mhtml2\u001b[0m \u001b[0;34m=\u001b[0m \u001b[0mdriver\u001b[0m\u001b[0;34m.\u001b[0m\u001b[0mpage_source\u001b[0m\u001b[0;34m\u001b[0m\u001b[0m\n\u001b[0m\u001b[1;32m      6\u001b[0m \u001b[0msoup\u001b[0m \u001b[0;34m=\u001b[0m \u001b[0mBeautifulSoup\u001b[0m\u001b[0;34m(\u001b[0m\u001b[0mhtml2\u001b[0m\u001b[0;34m,\u001b[0m \u001b[0;34m'lxml'\u001b[0m\u001b[0;34m)\u001b[0m\u001b[0;34m\u001b[0m\u001b[0m\n\u001b[1;32m      7\u001b[0m \u001b[0;34m\u001b[0m\u001b[0m\n",
      "\u001b[0;32m~/.pyenv/versions/3.6.6/envs/fc-webtoon/lib/python3.6/site-packages/selenium/webdriver/remote/webdriver.py\u001b[0m in \u001b[0;36mpage_source\u001b[0;34m(self)\u001b[0m\n\u001b[1;32m    677\u001b[0m             \u001b[0mdriver\u001b[0m\u001b[0;34m.\u001b[0m\u001b[0mpage_source\u001b[0m\u001b[0;34m\u001b[0m\u001b[0m\n\u001b[1;32m    678\u001b[0m         \"\"\"\n\u001b[0;32m--> 679\u001b[0;31m         \u001b[0;32mreturn\u001b[0m \u001b[0mself\u001b[0m\u001b[0;34m.\u001b[0m\u001b[0mexecute\u001b[0m\u001b[0;34m(\u001b[0m\u001b[0mCommand\u001b[0m\u001b[0;34m.\u001b[0m\u001b[0mGET_PAGE_SOURCE\u001b[0m\u001b[0;34m)\u001b[0m\u001b[0;34m[\u001b[0m\u001b[0;34m'value'\u001b[0m\u001b[0;34m]\u001b[0m\u001b[0;34m\u001b[0m\u001b[0m\n\u001b[0m\u001b[1;32m    680\u001b[0m \u001b[0;34m\u001b[0m\u001b[0m\n\u001b[1;32m    681\u001b[0m     \u001b[0;32mdef\u001b[0m \u001b[0mclose\u001b[0m\u001b[0;34m(\u001b[0m\u001b[0mself\u001b[0m\u001b[0;34m)\u001b[0m\u001b[0;34m:\u001b[0m\u001b[0;34m\u001b[0m\u001b[0m\n",
      "\u001b[0;32m~/.pyenv/versions/3.6.6/envs/fc-webtoon/lib/python3.6/site-packages/selenium/webdriver/remote/webdriver.py\u001b[0m in \u001b[0;36mexecute\u001b[0;34m(self, driver_command, params)\u001b[0m\n\u001b[1;32m    319\u001b[0m         \u001b[0mresponse\u001b[0m \u001b[0;34m=\u001b[0m \u001b[0mself\u001b[0m\u001b[0;34m.\u001b[0m\u001b[0mcommand_executor\u001b[0m\u001b[0;34m.\u001b[0m\u001b[0mexecute\u001b[0m\u001b[0;34m(\u001b[0m\u001b[0mdriver_command\u001b[0m\u001b[0;34m,\u001b[0m \u001b[0mparams\u001b[0m\u001b[0;34m)\u001b[0m\u001b[0;34m\u001b[0m\u001b[0m\n\u001b[1;32m    320\u001b[0m         \u001b[0;32mif\u001b[0m \u001b[0mresponse\u001b[0m\u001b[0;34m:\u001b[0m\u001b[0;34m\u001b[0m\u001b[0m\n\u001b[0;32m--> 321\u001b[0;31m             \u001b[0mself\u001b[0m\u001b[0;34m.\u001b[0m\u001b[0merror_handler\u001b[0m\u001b[0;34m.\u001b[0m\u001b[0mcheck_response\u001b[0m\u001b[0;34m(\u001b[0m\u001b[0mresponse\u001b[0m\u001b[0;34m)\u001b[0m\u001b[0;34m\u001b[0m\u001b[0m\n\u001b[0m\u001b[1;32m    322\u001b[0m             response['value'] = self._unwrap_value(\n\u001b[1;32m    323\u001b[0m                 response.get('value', None))\n",
      "\u001b[0;32m~/.pyenv/versions/3.6.6/envs/fc-webtoon/lib/python3.6/site-packages/selenium/webdriver/remote/errorhandler.py\u001b[0m in \u001b[0;36mcheck_response\u001b[0;34m(self, response)\u001b[0m\n\u001b[1;32m    239\u001b[0m             \u001b[0;32melif\u001b[0m \u001b[0;34m'alert'\u001b[0m \u001b[0;32min\u001b[0m \u001b[0mvalue\u001b[0m\u001b[0;34m:\u001b[0m\u001b[0;34m\u001b[0m\u001b[0m\n\u001b[1;32m    240\u001b[0m                 \u001b[0malert_text\u001b[0m \u001b[0;34m=\u001b[0m \u001b[0mvalue\u001b[0m\u001b[0;34m[\u001b[0m\u001b[0;34m'alert'\u001b[0m\u001b[0;34m]\u001b[0m\u001b[0;34m.\u001b[0m\u001b[0mget\u001b[0m\u001b[0;34m(\u001b[0m\u001b[0;34m'text'\u001b[0m\u001b[0;34m)\u001b[0m\u001b[0;34m\u001b[0m\u001b[0m\n\u001b[0;32m--> 241\u001b[0;31m             \u001b[0;32mraise\u001b[0m \u001b[0mexception_class\u001b[0m\u001b[0;34m(\u001b[0m\u001b[0mmessage\u001b[0m\u001b[0;34m,\u001b[0m \u001b[0mscreen\u001b[0m\u001b[0;34m,\u001b[0m \u001b[0mstacktrace\u001b[0m\u001b[0;34m,\u001b[0m \u001b[0malert_text\u001b[0m\u001b[0;34m)\u001b[0m\u001b[0;34m\u001b[0m\u001b[0m\n\u001b[0m\u001b[1;32m    242\u001b[0m         \u001b[0;32mraise\u001b[0m \u001b[0mexception_class\u001b[0m\u001b[0;34m(\u001b[0m\u001b[0mmessage\u001b[0m\u001b[0;34m,\u001b[0m \u001b[0mscreen\u001b[0m\u001b[0;34m,\u001b[0m \u001b[0mstacktrace\u001b[0m\u001b[0;34m)\u001b[0m\u001b[0;34m\u001b[0m\u001b[0m\n\u001b[1;32m    243\u001b[0m \u001b[0;34m\u001b[0m\u001b[0m\n",
      "\u001b[0;31mUnexpectedAlertPresentException\u001b[0m: Alert Text: None\nMessage: unexpected alert open: {Alert text : 선택하신 '백억하누 강남본점'은/는 21:50전까지 주문이 가능합니다. 종료시간 전까지 주문을 완료하셔야 배송이 가능합니다.}\n  (Session info: chrome=70.0.3538.77)\n  (Driver info: chromedriver=2.43.600233 (523efee95e3d68b8719b3a1c83051aa63aa6b10d),platform=Linux 4.15.0-39-generic x86_64)\n"
     ]
    }
   ],
   "source": [
    "driver = webdriver.Chrome('/usr/sbin/chromedriver')\n",
    "driver.implicitly_wait(3)\n",
    "\n",
    "driver.get('https://www.foodfly.co.kr/restaurants/show/21073')\n",
    "html2 = driver.page_source\n",
    "soup = BeautifulSoup(html2, 'lxml')\n",
    "\n",
    "store_info = soup.select('#restaurant-show > .bordered p')[1]\n",
    "print(type(store_info))\n",
    "store_info_str = store_info.get_text('', strip=True)\n",
    "print(store_info_str)"
   ]
  },
  {
   "cell_type": "code",
   "execution_count": null,
   "metadata": {},
   "outputs": [],
   "source": [
    "[<p><br/></p>, <p><br/></p>, <p style=\"line-height: 1;\">식신로드, 생생정보, 생방송오늘저녁 등 각종 방송 및 입에서 입으로 이미 검증된 강남 맛집, 이제 백억하누의 음식을 푸드플라이를 통해 집에서 편하게 접하실 수 있습니다.</p>, <p style=\"line-height: 1;\">항상 고객이 만족하실수 있는 음식 및 서비스로 고객님을 모시겠습니다.</p>, <p style=\"line-height: 1;\">백억하누 강남 본점 많이 이용해주세요^^</p>, <p><br/></p>, <p></p>, <p>*쌀 : 국내산<br/><br/><br/>\n",
    "*소고기 : 국내산 한우<br/><br/><br/>\n",
    "*갈비탕 : 미국산<br/><br/><br/>\n",
    "*전복 : 국내산<br/><br/><br/>\n",
    "*김치 : 국내산<br/><br/><br/>\n",
    "*누룽지 : 국내산<br/><br/><br/>\n",
    "*김치찌개 배추김치 : 중국산<br/><br/><br/>\n",
    "*돼지고기 : 목전지 미국산, 삼겹 독일산</p>]"
   ]
  }
 ],
 "metadata": {
  "kernelspec": {
   "display_name": "Python 3",
   "language": "python",
   "name": "python3"
  },
  "language_info": {
   "codemirror_mode": {
    "name": "ipython",
    "version": 3
   },
   "file_extension": ".py",
   "mimetype": "text/x-python",
   "name": "python",
   "nbconvert_exporter": "python",
   "pygments_lexer": "ipython3",
   "version": "3.6.6"
  }
 },
 "nbformat": 4,
 "nbformat_minor": 2
}
