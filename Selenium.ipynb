{
 "cells": [
  {
   "cell_type": "code",
   "execution_count": 14,
   "metadata": {},
   "outputs": [
    {
     "name": "stdout",
     "output_type": "stream",
     "text": [
      "[]\n"
     ]
    }
   ],
   "source": [
    "import time\n",
    "\n",
    "from selenium import webdriver\n",
    "from selenium.webdriver.common.keys import Keys\n",
    "from bs4 import BeautifulSoup\n",
    "\n",
    "driver = webdriver.Chrome('/usr/sbin/chromedriver')\n",
    "\n",
    "driver.implicitly_wait(3)\n",
    "driver.get('https://www.foodfly.co.kr/restaurants')\n",
    "\n",
    "# 한식[선택]\n",
    "driver.find_element_by_xpath(\"/html/body/header/div[3]/form/div/div[2]\").click()\n",
    "html = driver.page_source # 현재 페이지 주소를 반환\n",
    "\n",
    "# 웹 스크롤 다운 구현 및 css element 수집\n",
    "elem = driver.find_element_by_tag_name(\"body\")\n",
    "no_of_pagedowns = 1\n",
    "\n",
    "korea_img = []\n",
    "while no_of_pagedowns < 30:\n",
    "    elem.send_keys(Keys.PAGE_DOWN)\n",
    "    time.sleep(0.2)\n",
    "    for i in img:\n",
    "        img = driver.find_elements_by_tag_name('restaurant_box_bg')\n",
    "        print(img)\n",
    "        korea_img.append(i.get_attribute('url'))\n",
    "    no_of_pagedowns += 1\n",
    "\n",
    "print(korea_img)\n",
    "\n",
    "# BeautifulSoup를 이용한 파싱시작\n",
    "\n",
    "\n"
   ]
  },
  {
   "cell_type": "code",
   "execution_count": 13,
   "metadata": {},
   "outputs": [
    {
     "name": "stdout",
     "output_type": "stream",
     "text": [
      "[]\n"
     ]
    }
   ],
   "source": []
  },
  {
   "cell_type": "code",
   "execution_count": null,
   "metadata": {},
   "outputs": [],
   "source": []
  }
 ],
 "metadata": {
  "kernelspec": {
   "display_name": "Python 3",
   "language": "python",
   "name": "python3"
  },
  "language_info": {
   "codemirror_mode": {
    "name": "ipython",
    "version": 3
   },
   "file_extension": ".py",
   "mimetype": "text/x-python",
   "name": "python",
   "nbconvert_exporter": "python",
   "pygments_lexer": "ipython3",
   "version": "3.6.6"
  }
 },
 "nbformat": 4,
 "nbformat_minor": 2
}
